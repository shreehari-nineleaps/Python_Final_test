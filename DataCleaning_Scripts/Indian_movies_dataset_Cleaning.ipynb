{
 "cells": [
  {
   "cell_type": "markdown",
   "metadata": {},
   "source": [
    "# Indian Movies Dataset Cleaning "
   ]
  },
  {
   "cell_type": "markdown",
   "metadata": {},
   "source": [
    "## 1. Load Library and Data"
   ]
  },
  {
   "cell_type": "code",
   "execution_count": 2,
   "metadata": {},
   "outputs": [],
   "source": [
    "import pandas as pd"
   ]
  },
  {
   "cell_type": "code",
   "execution_count": 4,
   "metadata": {},
   "outputs": [],
   "source": [
    "# Load the dataframe\n",
    "# Make sure 'indian_movies.csv' is in the same directory as the notebook\n",
    "df = pd.read_csv('/home/nineleaps/Documents/Python_Training/Final_test/movies_data/raw_data/indian_movies.csv')"
   ]
  },
  {
   "cell_type": "markdown",
   "metadata": {},
   "source": [
    "## 2. Initial Data Inspection"
   ]
  },
  {
   "cell_type": "code",
   "execution_count": 5,
   "metadata": {},
   "outputs": [
    {
     "name": "stdout",
     "output_type": "stream",
     "text": [
      "--- Initial Data ---\n",
      "\n",
      "First 5 rows (Initial):\n",
      "   Unnamed: 0 MovieID                       Title  \\\n",
      "0           7  MOV008              Sarkar (Tamil)   \n",
      "1           9  MOV010                 2.0 (Tamil)   \n",
      "2          21  MOV022            K.G.F: Chapter 1   \n",
      "3          23  MOV024  Avengers: Endgame (Dubbed)   \n",
      "4          25  MOV026                    Pailwaan   \n",
      "\n",
      "                      Director                   Genre  ReleaseYear  \\\n",
      "0             A. R. Murugadoss         Action Thriller       2005.0   \n",
      "1                   S. Shankar  Science Fiction Action       2018.0   \n",
      "2               Prashanth Neel            Action Drama       2018.0   \n",
      "3  Anthony Russo, Joseph Russo               Superhero       2019.0   \n",
      "4                   S. Krishna           Sports Action       2019.0   \n",
      "\n",
      "   Budget (Crores)  BoxOffice (Crores)  Rating  Duration (minutes)  \\\n",
      "0              NaN                 NaN     7.5               173.0   \n",
      "1            550.0               800.0     6.9               147.0   \n",
      "2             50.0               250.0     7.9               156.0   \n",
      "3              NaN                 NaN     8.4               181.0   \n",
      "4             30.0                55.0     6.8                 NaN   \n",
      "\n",
      "           LeadActor         LeadActress  \\\n",
      "0              Vijay      Keerthy Suresh   \n",
      "1        Rajinikanth         Amy Jackson   \n",
      "2               Yash     Srinidhi Shetty   \n",
      "3  Robert Downey Jr.  Scarlett Johansson   \n",
      "4             Sudeep     Aakanksha Singh   \n",
      "\n",
      "                                     Language    ProductionCompany  \n",
      "0                                       Tamil         Kalaignar TV  \n",
      "1                                       Tamil     Lyca Productions  \n",
      "2                                     Kannada        Hombale Films  \n",
      "3  English (Dubbed in Telugu, Kannada, Hindi)       Marvel Studios  \n",
      "4                                     Kannada  RRR Motion Pictures  \n",
      "\n",
      "Initial DataFrame Info:\n",
      "<class 'pandas.core.frame.DataFrame'>\n",
      "RangeIndex: 18 entries, 0 to 17\n",
      "Data columns (total 14 columns):\n",
      " #   Column              Non-Null Count  Dtype  \n",
      "---  ------              --------------  -----  \n",
      " 0   Unnamed: 0          18 non-null     int64  \n",
      " 1   MovieID             18 non-null     object \n",
      " 2   Title               18 non-null     object \n",
      " 3   Director            18 non-null     object \n",
      " 4   Genre               18 non-null     object \n",
      " 5   ReleaseYear         17 non-null     float64\n",
      " 6   Budget (Crores)     10 non-null     float64\n",
      " 7   BoxOffice (Crores)  10 non-null     float64\n",
      " 8   Rating              17 non-null     float64\n",
      " 9   Duration (minutes)  17 non-null     float64\n",
      " 10  LeadActor           18 non-null     object \n",
      " 11  LeadActress         18 non-null     object \n",
      " 12  Language            18 non-null     object \n",
      " 13  ProductionCompany   18 non-null     object \n",
      "dtypes: float64(5), int64(1), object(8)\n",
      "memory usage: 2.1+ KB\n",
      "\n",
      "Initial Missing values per column:\n",
      "BoxOffice (Crores)    8\n",
      "Budget (Crores)       8\n",
      "Duration (minutes)    1\n",
      "Rating                1\n",
      "ReleaseYear           1\n",
      "Unnamed: 0            0\n",
      "Genre                 0\n",
      "Director              0\n",
      "Title                 0\n",
      "MovieID               0\n",
      "LeadActor             0\n",
      "LeadActress           0\n",
      "Language              0\n",
      "ProductionCompany     0\n",
      "dtype: int64\n"
     ]
    }
   ],
   "source": [
    "print(\"--- Initial Data ---\")\n",
    "# Display the first 5 rows\n",
    "print(\"\\nFirst 5 rows (Initial):\")\n",
    "print(df.head())\n",
    "\n",
    "# Print initial info\n",
    "print(\"\\nInitial DataFrame Info:\")\n",
    "df.info()\n",
    "\n",
    "# Print initial missing values\n",
    "print(\"\\nInitial Missing values per column:\")\n",
    "print(df.isna().sum().sort_values(ascending=False))"
   ]
  },
  {
   "cell_type": "markdown",
   "metadata": {},
   "source": [
    "## 3. Data Cleaning Steps"
   ]
  },
  {
   "cell_type": "markdown",
   "metadata": {},
   "source": [
    "### 3.1 Drop Redundant Column"
   ]
  },
  {
   "cell_type": "code",
   "execution_count": 6,
   "metadata": {},
   "outputs": [
    {
     "name": "stdout",
     "output_type": "stream",
     "text": [
      "\n",
      "1. Dropping 'Unnamed: 0' column...\n"
     ]
    }
   ],
   "source": [
    "# Drop the 'Unnamed: 0' column if it exists\n",
    "if 'Unnamed: 0' in df.columns:\n",
    "    print(\"\\n1. Dropping 'Unnamed: 0' column...\")\n",
    "    # Use inplace=False to return a new DataFrame (good practice)\n",
    "    df = df.drop('Unnamed: 0', axis=1)\n",
    "else:\n",
    "    print(\"\\n1. 'Unnamed: 0' column not found.\")"
   ]
  },
  {
   "cell_type": "markdown",
   "metadata": {},
   "source": [
    "### 3.2 Impute Missing Values"
   ]
  },
  {
   "cell_type": "code",
   "execution_count": 7,
   "metadata": {},
   "outputs": [
    {
     "name": "stdout",
     "output_type": "stream",
     "text": [
      "\n",
      "2. Imputing missing values with median...\n",
      "   - Missing values in 'Budget (Crores)' imputed with median: 25.0\n",
      "   - Missing values in 'BoxOffice (Crores)' imputed with median: 47.5\n",
      "   - Missing values in 'Rating' imputed with median: 7.1\n",
      "   - Missing values in 'Duration (minutes)' imputed with median: 156.0\n",
      "   - Missing values in 'ReleaseYear' imputed with median: 2019.0\n"
     ]
    }
   ],
   "source": [
    "# Handle Missing Numerical Values using Median Imputation\n",
    "print(\"\\n2. Imputing missing values with median...\")\n",
    "# List of columns to impute\n",
    "cols_to_impute = ['Budget (Crores)', 'BoxOffice (Crores)', 'Rating', 'Duration (minutes)', 'ReleaseYear']\n",
    "for col in cols_to_impute:\n",
    "    # Check if the column exists and has missing values\n",
    "    if col in df.columns and df[col].isna().any():\n",
    "        # Calculate the median for the column\n",
    "        median_val = df[col].median()\n",
    "        # Fill missing values (NaN) with the median\n",
    "        df[col] = df[col].fillna(median_val) # Use assignment instead of inplace=True\n",
    "        print(f\"   - Missing values in '{col}' imputed with median: {median_val}\")"
   ]
  },
  {
   "cell_type": "markdown",
   "metadata": {},
   "source": [
    "### 3.3 Convert Data Types"
   ]
  },
  {
   "cell_type": "code",
   "execution_count": 8,
   "metadata": {},
   "outputs": [
    {
     "name": "stdout",
     "output_type": "stream",
     "text": [
      "\n",
      "3. Converting data types...\n",
      "   - 'ReleaseYear' converted to integer.\n",
      "   - 'Duration (minutes)' converted to integer.\n"
     ]
    }
   ],
   "source": [
    "# Convert Data Types (after imputation)\n",
    "print(\"\\n3. Converting data types...\")\n",
    "try:\n",
    "    # Convert ReleaseYear to integer\n",
    "    if 'ReleaseYear' in df.columns and df['ReleaseYear'].dtype != 'int64':\n",
    "        df['ReleaseYear'] = df['ReleaseYear'].astype(int)\n",
    "        print(\"   - 'ReleaseYear' converted to integer.\")\n",
    "    # Convert Duration to integer\n",
    "    if 'Duration (minutes)' in df.columns and df['Duration (minutes)'].dtype != 'int64':\n",
    "        df['Duration (minutes)'] = df['Duration (minutes)'].astype(int)\n",
    "        print(\"   - 'Duration (minutes)' converted to integer.\")\n",
    "except Exception as e:\n",
    "    print(f\"   - Error during type conversion: {e}\")"
   ]
  },
  {
   "cell_type": "markdown",
   "metadata": {},
   "source": [
    "### 3.4 Handle Duplicates"
   ]
  },
  {
   "cell_type": "code",
   "execution_count": 13,
   "metadata": {},
   "outputs": [
    {
     "name": "stdout",
     "output_type": "stream",
     "text": [
      "\n",
      "4. Handling duplicate rows based on title...\n",
      "   - Removed 1 duplicate row(s) based on title.\n"
     ]
    }
   ],
   "source": [
    "print(\"\\n4. Handling duplicate rows based on title...\")\n",
    "initial_rows = df.shape[0]\n",
    "\n",
    "# Drop duplicates where 'title' is the same\n",
    "df = df.drop_duplicates(subset='Title')\n",
    "rows_after_duplicates = df.shape[0]\n",
    "duplicates_removed = initial_rows - rows_after_duplicates\n",
    "\n",
    "if duplicates_removed > 0:\n",
    "    print(f\"   - Removed {duplicates_removed} duplicate row(s) based on title.\")\n",
    "else:\n",
    "    print(\"   - No duplicate rows found based on title.\")"
   ]
  },
  {
   "cell_type": "markdown",
   "metadata": {},
   "source": [
    "## 4. Verification"
   ]
  },
  {
   "cell_type": "code",
   "execution_count": 14,
   "metadata": {},
   "outputs": [
    {
     "name": "stdout",
     "output_type": "stream",
     "text": [
      "\n",
      "--- Cleaned Data ---\n",
      "\n",
      "Missing values after cleaning:\n",
      "MovieID               0\n",
      "Title                 0\n",
      "Director              0\n",
      "Genre                 0\n",
      "ReleaseYear           0\n",
      "Budget (Crores)       0\n",
      "BoxOffice (Crores)    0\n",
      "Rating                0\n",
      "Duration (minutes)    0\n",
      "LeadActor             0\n",
      "LeadActress           0\n",
      "Language              0\n",
      "ProductionCompany     0\n",
      "dtype: int64\n",
      "\n",
      "Cleaned DataFrame Info:\n",
      "<class 'pandas.core.frame.DataFrame'>\n",
      "Index: 17 entries, 0 to 17\n",
      "Data columns (total 13 columns):\n",
      " #   Column              Non-Null Count  Dtype  \n",
      "---  ------              --------------  -----  \n",
      " 0   MovieID             17 non-null     object \n",
      " 1   Title               17 non-null     object \n",
      " 2   Director            17 non-null     object \n",
      " 3   Genre               17 non-null     object \n",
      " 4   ReleaseYear         17 non-null     int64  \n",
      " 5   Budget (Crores)     17 non-null     float64\n",
      " 6   BoxOffice (Crores)  17 non-null     float64\n",
      " 7   Rating              17 non-null     float64\n",
      " 8   Duration (minutes)  17 non-null     int64  \n",
      " 9   LeadActor           17 non-null     object \n",
      " 10  LeadActress         17 non-null     object \n",
      " 11  Language            17 non-null     object \n",
      " 12  ProductionCompany   17 non-null     object \n",
      "dtypes: float64(3), int64(2), object(8)\n",
      "memory usage: 1.9+ KB\n",
      "\n",
      "First 5 rows (Cleaned):\n",
      "  MovieID                       Title                     Director  \\\n",
      "0  MOV008              Sarkar (Tamil)             A. R. Murugadoss   \n",
      "1  MOV010                 2.0 (Tamil)                   S. Shankar   \n",
      "2  MOV022            K.G.F: Chapter 1               Prashanth Neel   \n",
      "3  MOV024  Avengers: Endgame (Dubbed)  Anthony Russo, Joseph Russo   \n",
      "4  MOV026                    Pailwaan                   S. Krishna   \n",
      "\n",
      "                    Genre  ReleaseYear  Budget (Crores)  BoxOffice (Crores)  \\\n",
      "0         Action Thriller         2005             25.0                47.5   \n",
      "1  Science Fiction Action         2018            550.0               800.0   \n",
      "2            Action Drama         2018             50.0               250.0   \n",
      "3               Superhero         2019             25.0                47.5   \n",
      "4           Sports Action         2019             30.0                55.0   \n",
      "\n",
      "   Rating  Duration (minutes)          LeadActor         LeadActress  \\\n",
      "0     7.5                 173              Vijay      Keerthy Suresh   \n",
      "1     6.9                 147        Rajinikanth         Amy Jackson   \n",
      "2     7.9                 156               Yash     Srinidhi Shetty   \n",
      "3     8.4                 181  Robert Downey Jr.  Scarlett Johansson   \n",
      "4     6.8                 156             Sudeep     Aakanksha Singh   \n",
      "\n",
      "                                     Language    ProductionCompany  \n",
      "0                                       Tamil         Kalaignar TV  \n",
      "1                                       Tamil     Lyca Productions  \n",
      "2                                     Kannada        Hombale Films  \n",
      "3  English (Dubbed in Telugu, Kannada, Hindi)       Marvel Studios  \n",
      "4                                     Kannada  RRR Motion Pictures  \n",
      "\n",
      "Shape of the cleaned DataFrame (rows, columns):\n",
      "(17, 13)\n"
     ]
    }
   ],
   "source": [
    "print(\"\\n--- Cleaned Data ---\")\n",
    "\n",
    "# Verify no more missing values\n",
    "print(\"\\nMissing values after cleaning:\")\n",
    "print(df.isna().sum())\n",
    "\n",
    "# Display info of the cleaned dataframe\n",
    "print(\"\\nCleaned DataFrame Info:\")\n",
    "df.info()\n",
    "\n",
    "# Display the first 5 rows of the cleaned dataframe\n",
    "print(\"\\nFirst 5 rows (Cleaned):\")\n",
    "print(df.head())\n",
    "\n",
    "# Display the shape of the cleaned dataframe\n",
    "print(\"\\nShape of the cleaned DataFrame (rows, columns):\")\n",
    "print(df.shape)"
   ]
  },
  {
   "cell_type": "markdown",
   "metadata": {},
   "source": [
    "## 5. Save Cleaned Data "
   ]
  },
  {
   "cell_type": "code",
   "execution_count": 15,
   "metadata": {},
   "outputs": [],
   "source": [
    "df.to_csv('/home/nineleaps/Documents/Python_Training/Final_test/movies_data/cleaned_data_csv/cleaned_indian_movies_simple_detailed.csv', index=False)"
   ]
  },
  {
   "cell_type": "code",
   "execution_count": null,
   "metadata": {},
   "outputs": [],
   "source": []
  },
  {
   "cell_type": "code",
   "execution_count": null,
   "metadata": {},
   "outputs": [],
   "source": []
  },
  {
   "cell_type": "code",
   "execution_count": null,
   "metadata": {},
   "outputs": [],
   "source": []
  }
 ],
 "metadata": {
  "kernelspec": {
   "display_name": "Python 3 (ipykernel)",
   "language": "python",
   "name": "python3"
  },
  "language_info": {
   "codemirror_mode": {
    "name": "ipython",
    "version": 3
   },
   "file_extension": ".py",
   "mimetype": "text/x-python",
   "name": "python",
   "nbconvert_exporter": "python",
   "pygments_lexer": "ipython3",
   "version": "3.12.3"
  }
 },
 "nbformat": 4,
 "nbformat_minor": 4
}
