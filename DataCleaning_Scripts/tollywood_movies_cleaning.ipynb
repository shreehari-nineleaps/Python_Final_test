{
 "cells": [
  {
   "cell_type": "markdown",
   "metadata": {},
   "source": [
    "# Tollywood Movie Data Cleaning"
   ]
  },
  {
   "cell_type": "markdown",
   "metadata": {},
   "source": [
    "## 1. Load Data"
   ]
  },
  {
   "cell_type": "code",
   "execution_count": 1,
   "metadata": {},
   "outputs": [
    {
     "name": "stdout",
     "output_type": "stream",
     "text": [
      "Requirement already satisfied: openpyxl in /home/nineleaps/jupyter-env/lib/python3.12/site-packages (3.1.5)\n",
      "Requirement already satisfied: et-xmlfile in /home/nineleaps/jupyter-env/lib/python3.12/site-packages (from openpyxl) (2.0.0)\n"
     ]
    }
   ],
   "source": [
    "!pip install openpyxl"
   ]
  },
  {
   "cell_type": "code",
   "execution_count": 21,
   "metadata": {},
   "outputs": [
    {
     "name": "stdout",
     "output_type": "stream",
     "text": [
      "Successfully loaded data from /home/nineleaps/Documents/Python_Training/Final_test/movies_data/raw_data/tollywood_movies.xlsx\n",
      "   Unnamed: 0 MovieID                        Title          Director  \\\n",
      "0           0  MOV004  Baahubali 2: The Conclusion   S. S. Rajamouli   \n",
      "1           1  MOV021     Baahubali: The Beginning   S. S. Rajamouli   \n",
      "2           2  MOV023      Sye Raa Narasimha Reddy    Surender Reddy   \n",
      "3           3  MOV025                       Jersey  Gowtam Tinnanuri   \n",
      "4           4  MOV027              Geetha Govindam         Parasuram   \n",
      "\n",
      "                 Genre  ReleaseYear  Budget (Crores)  BoxOffice (Crores)  \\\n",
      "0  Epic Fantasy Action          NaN              250                1810   \n",
      "1  Epic Fantasy Action       2015.0              180                 650   \n",
      "2    Historical Action       2019.0              200                 265   \n",
      "3         Sports Drama       2019.0               20                  45   \n",
      "4      Romantic Comedy       2018.0               10                 130   \n",
      "\n",
      "   Rating  Duration (minutes)          LeadActor        LeadActress Language  \\\n",
      "0     8.2               171.0            Prabhas     Anushka Shetty   Telugu   \n",
      "1     8.1               159.0            Prabhas          Tamannaah   Telugu   \n",
      "2     7.1               167.0        Chiranjeevi         Nayanthara   Telugu   \n",
      "3     7.8                 NaN               Nani   Shraddha Srinath      NaN   \n",
      "4     NaN               148.0  Vijay Deverakonda  Rashmika Mandanna      NaN   \n",
      "\n",
      "             ProductionCompany  \n",
      "0             Arka Media Works  \n",
      "1                          NaN  \n",
      "2  Konidela Production Company  \n",
      "3       Sithara Entertainments  \n",
      "4                 GA2 Pictures  \n",
      "<class 'pandas.core.frame.DataFrame'>\n",
      "RangeIndex: 10 entries, 0 to 9\n",
      "Data columns (total 14 columns):\n",
      " #   Column              Non-Null Count  Dtype  \n",
      "---  ------              --------------  -----  \n",
      " 0   Unnamed: 0          10 non-null     int64  \n",
      " 1   MovieID             10 non-null     object \n",
      " 2   Title               10 non-null     object \n",
      " 3   Director            10 non-null     object \n",
      " 4   Genre               10 non-null     object \n",
      " 5   ReleaseYear         8 non-null      float64\n",
      " 6   Budget (Crores)     10 non-null     int64  \n",
      " 7   BoxOffice (Crores)  10 non-null     int64  \n",
      " 8   Rating              9 non-null      float64\n",
      " 9   Duration (minutes)  9 non-null      float64\n",
      " 10  LeadActor           10 non-null     object \n",
      " 11  LeadActress         10 non-null     object \n",
      " 12  Language            7 non-null      object \n",
      " 13  ProductionCompany   9 non-null      object \n",
      "dtypes: float64(3), int64(3), object(8)\n",
      "memory usage: 1.2+ KB\n"
     ]
    }
   ],
   "source": [
    "import pandas as pd\n",
    "import numpy as np\n",
    "# import openpyxl # No longer strictly needed if only reading, but good practice if installed\n",
    "\n",
    "# --- IMPORTANT: Make sure the path to your file is correct --- \n",
    "file_path = '/home/nineleaps/Documents/Python_Training/Final_test/movies_data/raw_data/tollywood_movies.xlsx' \n",
    "\n",
    "try:\n",
    "    df = pd.read_excel(file_path, engine='openpyxl')\n",
    "    print(f\"Successfully loaded data from {file_path}\")\n",
    "    # Display the first 5 rows\n",
    "    print(df.head())\n",
    "    \n",
    "    # Display column names, non-null counts, and data types\n",
    "    df.info()\n",
    "except FileNotFoundError:\n",
    "    print(f\"ERROR: File not found at {file_path}\")\n",
    "    print(\"Please ensure the file exists in the 'movies_data' directory relative to the notebook.\")\n",
    "    # Stop execution or handle error appropriately\n",
    "    df = None # Set df to None so subsequent cells know loading failed\n",
    "except Exception as e:\n",
    "    print(f\"An error occurred while loading the Excel file: {e}\")\n",
    "    df = None"
   ]
  },
  {
   "cell_type": "markdown",
   "metadata": {},
   "source": [
    "## 2. Initial Data Exploration\n",
    "\n",
    "Let's look at the first few rows and the data types/missing values."
   ]
  },
  {
   "cell_type": "code",
   "execution_count": 22,
   "metadata": {},
   "outputs": [
    {
     "name": "stdout",
     "output_type": "stream",
     "text": [
      "\n",
      "Missing values before cleaning:\n",
      "Unnamed: 0            0\n",
      "MovieID               0\n",
      "Title                 0\n",
      "Director              0\n",
      "Genre                 0\n",
      "ReleaseYear           2\n",
      "Budget (Crores)       0\n",
      "BoxOffice (Crores)    0\n",
      "Rating                1\n",
      "Duration (minutes)    1\n",
      "LeadActor             0\n",
      "LeadActress           0\n",
      "Language              3\n",
      "ProductionCompany     1\n",
      "dtype: int64\n"
     ]
    }
   ],
   "source": [
    "# Check for missing values only if df was loaded successfully\n",
    "if df is not None:\n",
    "    print('\\nMissing values before cleaning:')\n",
    "    print(df.isnull().sum())\n",
    "else:\n",
    "    print('DataFrame df not loaded. Skipping missing value check.')"
   ]
  },
  {
   "cell_type": "markdown",
   "metadata": {},
   "source": [
    "## 3. Data Cleaning Steps\n",
    "\n",
    "We will perform the following steps:\n",
    "1. Drop redundant columns (`Unnamed: 0`).\n",
    "2. Handle missing `ReleaseYear` by **dropping** rows.\n",
    "3. Convert `ReleaseYear` to integer type.\n",
    "4. Handle other missing values by imputing (using mean for numeric `Rating`, median for numeric `Duration`, mode for categorical `Language`, `ProductionCompany`).\n",
    "5. Correct data types (e.g., `Duration (minutes)` to Integer).\n",
    "6. Remove duplicate rows."
   ]
  },
  {
   "cell_type": "markdown",
   "metadata": {},
   "source": [
    "### 3.1 Drop Redundant Columns"
   ]
  },
  {
   "cell_type": "code",
   "execution_count": 23,
   "metadata": {},
   "outputs": [
    {
     "name": "stdout",
     "output_type": "stream",
     "text": [
      "Dropped 'Unnamed: 0' column.\n"
     ]
    }
   ],
   "source": [
    "if df is not None:\n",
    "    if 'Unnamed: 0' in df.columns:\n",
    "        df = df.drop('Unnamed: 0', axis=1)\n",
    "        print(\"Dropped 'Unnamed: 0' column.\")\n",
    "    else:\n",
    "        print(\"'Unnamed: 0' column not found.\")\n",
    "else:\n",
    "    print('DataFrame df not loaded.')"
   ]
  },
  {
   "cell_type": "markdown",
   "metadata": {},
   "source": [
    "### 3.2 Handle Missing Values and Data Types"
   ]
  },
  {
   "cell_type": "markdown",
   "metadata": {},
   "source": [
    "**ReleaseYear: Drop Missing Rows and Convert Type**"
   ]
  },
  {
   "cell_type": "code",
   "execution_count": 24,
   "metadata": {},
   "outputs": [
    {
     "name": "stdout",
     "output_type": "stream",
     "text": [
      "Initial rows: 10\n",
      "Found 2 missing values in 'ReleaseYear'.\n",
      "Dropped 2 row(s) due to missing 'ReleaseYear'.\n",
      "Rows remaining: 8\n",
      "Successfully converted 'ReleaseYear' column to Int64.\n",
      "\n",
      "DataFrame info after handling ReleaseYear:\n",
      "<class 'pandas.core.frame.DataFrame'>\n",
      "Index: 8 entries, 1 to 9\n",
      "Data columns (total 13 columns):\n",
      " #   Column              Non-Null Count  Dtype  \n",
      "---  ------              --------------  -----  \n",
      " 0   MovieID             8 non-null      object \n",
      " 1   Title               8 non-null      object \n",
      " 2   Director            8 non-null      object \n",
      " 3   Genre               8 non-null      object \n",
      " 4   ReleaseYear         8 non-null      Int64  \n",
      " 5   Budget (Crores)     8 non-null      int64  \n",
      " 6   BoxOffice (Crores)  8 non-null      int64  \n",
      " 7   Rating              7 non-null      float64\n",
      " 8   Duration (minutes)  7 non-null      float64\n",
      " 9   LeadActor           8 non-null      object \n",
      " 10  LeadActress         8 non-null      object \n",
      " 11  Language            5 non-null      object \n",
      " 12  ProductionCompany   7 non-null      object \n",
      "dtypes: Int64(1), float64(2), int64(2), object(8)\n",
      "memory usage: 904.0+ bytes\n"
     ]
    }
   ],
   "source": [
    "# Drop rows with missing ReleaseYear and convert type\n",
    "\n",
    "if df is not None and 'ReleaseYear' in df.columns:\n",
    "    initial_rows = len(df)\n",
    "    print(f\"Initial rows: {initial_rows}\")\n",
    "\n",
    "    # --- Step 1: Convert to numeric (important to identify NaNs correctly) ---\n",
    "    # Coerce errors will turn non-numeric entries (like unexpected strings) into NaN\n",
    "    df['ReleaseYear'] = pd.to_numeric(df['ReleaseYear'], errors='coerce')\n",
    "\n",
    "    # --- Step 2: Check how many NaNs are in ReleaseYear ---\n",
    "    missing_year_count = df['ReleaseYear'].isnull().sum()\n",
    "    print(f\"Found {missing_year_count} missing values in 'ReleaseYear'.\")\n",
    "\n",
    "    # --- Step 3: Drop rows where 'ReleaseYear' is NaN ---\n",
    "    df.dropna(subset=['ReleaseYear'], inplace=True) # inplace=True modifies df directly\n",
    "\n",
    "    rows_dropped = initial_rows - len(df)\n",
    "    if rows_dropped > 0:\n",
    "        print(f\"Dropped {rows_dropped} row(s) due to missing 'ReleaseYear'.\")\n",
    "        print(f\"Rows remaining: {len(df)}\")\n",
    "    else:\n",
    "        print(\"No rows dropped due to missing 'ReleaseYear'.\")\n",
    "\n",
    "    # --- Step 4: Attempt to convert ReleaseYear to Integer ---\n",
    "    # Now that NaNs are removed, we can try converting to a nullable integer type.\n",
    "    # This handles cases where the original data might have had years like 2015.0\n",
    "    if not df['ReleaseYear'].empty: # Check if DataFrame is not empty after dropping\n",
    "        try:\n",
    "            # Check if all remaining years are effectively integers (e.g., 2015.0)\n",
    "            if df['ReleaseYear'].apply(lambda x: pd.isna(x) or x == np.floor(x)).all():\n",
    "                df['ReleaseYear'] = df['ReleaseYear'].astype('Int64')\n",
    "                print(\"Successfully converted 'ReleaseYear' column to Int64.\")\n",
    "            else:\n",
    "                 print(\"Warning: Some 'ReleaseYear' values are not whole numbers. Keeping as float.\")\n",
    "                 # Optionally, you could round or floor them before converting:\n",
    "                 # df['ReleaseYear'] = df['ReleaseYear'].round().astype('Int64')\n",
    "                 # print(\"Rounded and converted 'ReleaseYear' to Int64.\")\n",
    "\n",
    "        except Exception as e:\n",
    "            print(f\"ERROR converting ReleaseYear to Int64 after dropping NaNs: {e}. Keeping original type.\")\n",
    "    else:\n",
    "        print(\"DataFrame is empty after dropping rows with missing 'ReleaseYear'.\")\n",
    "\n",
    "else:\n",
    "    # Handle case where df is None or column doesn't exist\n",
    "    if df is None:\n",
    "         print('DataFrame df not loaded.')\n",
    "    elif 'ReleaseYear' not in df.columns:\n",
    "         print('ReleaseYear column missing.')\n",
    "\n",
    "# Display info to see the effect immediately (optional)\n",
    "if df is not None:\n",
    "    print(\"\\nDataFrame info after handling ReleaseYear:\")\n",
    "    df.info()"
   ]
  },
  {
   "cell_type": "markdown",
   "metadata": {},
   "source": [
    "**Rating: Impute Missing with Mean**"
   ]
  },
  {
   "cell_type": "code",
   "execution_count": 25,
   "metadata": {},
   "outputs": [
    {
     "name": "stdout",
     "output_type": "stream",
     "text": [
      "Imputed 1 missing 'Rating' with mean (7.69).\n"
     ]
    }
   ],
   "source": [
    "if df is not None and 'Rating' in df.columns:\n",
    "    # Ensure column is numeric before calculating mean\n",
    "    df['Rating'] = pd.to_numeric(df['Rating'], errors='coerce')\n",
    "    mean_rating = df['Rating'].mean()\n",
    "    if pd.notna(mean_rating):\n",
    "        missing_before = df['Rating'].isnull().sum()\n",
    "        df['Rating'] = df['Rating'].fillna(mean_rating)\n",
    "        if missing_before > 0:\n",
    "             print(f\"Imputed {missing_before} missing 'Rating' with mean ({mean_rating:.2f}).\")\n",
    "        else:\n",
    "             print(\"No missing 'Rating' values found to impute.\")\n",
    "    else:\n",
    "        print(\"Could not calculate a valid mean rating (perhaps all values were missing?). Imputation skipped.\")\n",
    "elif df is not None:\n",
    "     print(\"'Rating' column not found.\")\n",
    "else:\n",
    "    print('DataFrame df not loaded.')"
   ]
  },
  {
   "cell_type": "markdown",
   "metadata": {},
   "source": [
    "**Duration (minutes): Impute Missing with Median and Convert Type**"
   ]
  },
  {
   "cell_type": "code",
   "execution_count": 26,
   "metadata": {},
   "outputs": [
    {
     "name": "stdout",
     "output_type": "stream",
     "text": [
      "Imputed 1 missing 'Duration (minutes)' with median (159.0) and converted to Int64.\n"
     ]
    }
   ],
   "source": [
    "if df is not None and 'Duration (minutes)' in df.columns:\n",
    "    # Ensure the column is numeric, coercing errors\n",
    "    df['Duration (minutes)'] = pd.to_numeric(df['Duration (minutes)'], errors='coerce')\n",
    "    median_duration = df['Duration (minutes)'].median()\n",
    "\n",
    "    if pd.notna(median_duration):\n",
    "        missing_before = df['Duration (minutes)'].isnull().sum()\n",
    "        df['Duration (minutes)'] = df['Duration (minutes)'].fillna(median_duration)\n",
    "        # Convert to nullable integer type\n",
    "        try:\n",
    "            df['Duration (minutes)'] = df['Duration (minutes)'].astype('Int64')\n",
    "            if missing_before > 0:\n",
    "                print(f\"Imputed {missing_before} missing 'Duration (minutes)' with median ({median_duration}) and converted to Int64.\")\n",
    "            else:\n",
    "                print(f\"No missing 'Duration (minutes)' found. Converted column to Int64.\")\n",
    "        except Exception as e:\n",
    "            print(f\"ERROR converting Duration (minutes) to Int64: {e}\")\n",
    "    else:\n",
    "        print(\"Could not calculate a valid median duration. Imputation and conversion skipped.\")\n",
    "elif df is not None:\n",
    "    print(\"'Duration (minutes)' column not found.\")\n",
    "else:\n",
    "    print('DataFrame df not loaded.')"
   ]
  },
  {
   "cell_type": "markdown",
   "metadata": {},
   "source": [
    "**Language: Impute Missing with Mode**"
   ]
  },
  {
   "cell_type": "code",
   "execution_count": 27,
   "metadata": {},
   "outputs": [
    {
     "name": "stdout",
     "output_type": "stream",
     "text": [
      "Imputed 3 missing 'Language' with mode ('Telugu').\n"
     ]
    }
   ],
   "source": [
    "if df is not None and 'Language' in df.columns:\n",
    "    # Calculate mode - might return multiple values if tied\n",
    "    mode_language = df['Language'].mode()\n",
    "    # Use the first mode if available, otherwise use 'Unknown'\n",
    "    fill_value = mode_language[0] if not mode_language.empty else 'Unknown'\n",
    "    missing_before = df['Language'].isnull().sum()\n",
    "    df['Language'] = df['Language'].fillna(fill_value)\n",
    "    if missing_before > 0:\n",
    "        print(f\"Imputed {missing_before} missing 'Language' with mode ('{fill_value}').\")\n",
    "    else:\n",
    "        print(\"No missing 'Language' values found to impute.\")\n",
    "elif df is not None:\n",
    "    print(\"'Language' column not found.\")\n",
    "else:\n",
    "    print('DataFrame df not loaded.')"
   ]
  },
  {
   "cell_type": "markdown",
   "metadata": {},
   "source": [
    "**ProductionCompany: Impute Missing with Mode**"
   ]
  },
  {
   "cell_type": "code",
   "execution_count": 28,
   "metadata": {},
   "outputs": [
    {
     "name": "stdout",
     "output_type": "stream",
     "text": [
      "Imputed 1 missing 'ProductionCompany' with mode ('Arka Media Works').\n"
     ]
    }
   ],
   "source": [
    "if df is not None and 'ProductionCompany' in df.columns:\n",
    "    mode_company = df['ProductionCompany'].mode()\n",
    "    fill_value = mode_company[0] if not mode_company.empty else 'Unknown'\n",
    "    missing_before = df['ProductionCompany'].isnull().sum()\n",
    "    df['ProductionCompany'] = df['ProductionCompany'].fillna(fill_value)\n",
    "    if missing_before > 0:\n",
    "        print(f\"Imputed {missing_before} missing 'ProductionCompany' with mode ('{fill_value}').\")\n",
    "    else:\n",
    "        print(\"No missing 'ProductionCompany' values found to impute.\")\n",
    "elif df is not None:\n",
    "    print(\"'ProductionCompany' column not found.\")\n",
    "else:\n",
    "    print('DataFrame df not loaded.')"
   ]
  },
  {
   "cell_type": "markdown",
   "metadata": {},
   "source": [
    "### 3.3 Remove Duplicate Rows"
   ]
  },
  {
   "cell_type": "code",
   "execution_count": 29,
   "metadata": {},
   "outputs": [
    {
     "name": "stdout",
     "output_type": "stream",
     "text": [
      "\n",
      "Step 6: Checking for duplicate movie titles (case-insensitive, ignoring spaces)...\n",
      "Found 1 duplicate movie title(s) (after normalization).\n",
      "Dropping duplicates based on normalized title...\n",
      "1 duplicate title(s) dropped. New shape: (7, 14)\n",
      "\n",
      "--- Data Cleaning Complete ---\n",
      "------------------------------\n"
     ]
    }
   ],
   "source": [
    "if df is not None and 'Title' in df.columns:\n",
    "    print(\"\\nStep 6: Checking for duplicate movie titles (case-insensitive, ignoring spaces)...\")\n",
    "    initial_shape = df.shape\n",
    "\n",
    "    # Normalize titles by lowercasing and stripping spaces\n",
    "    df['Title_normalized'] = df['Title'].str.lower().str.strip()\n",
    "\n",
    "    # Count duplicates based on the normalized title\n",
    "    duplicate_count = df.duplicated(subset=['Title_normalized']).sum()\n",
    "\n",
    "    if duplicate_count > 0:\n",
    "        print(f\"Found {duplicate_count} duplicate movie title(s) (after normalization).\")\n",
    "        print(\"Dropping duplicates based on normalized title...\")\n",
    "        df.drop_duplicates(subset=['Title_normalized'], keep='first', inplace=True)\n",
    "        print(f\"{duplicate_count} duplicate title(s) dropped. New shape: {df.shape}\")\n",
    "    else:\n",
    "        print(\"No duplicate movie titles found (after normalization).\")\n",
    "\n",
    "    # Drop the helper column\n",
    "    df.drop(columns='Title_normalized', inplace=True)\n",
    "\n",
    "    print(\"\\n--- Data Cleaning Complete ---\")\n",
    "    print(\"-\" * 30)\n",
    "else:\n",
    "    print(\"DataFrame not loaded or 'Title' column missing.\")"
   ]
  },
  {
   "cell_type": "markdown",
   "metadata": {},
   "source": [
    "## 4. Final Check"
   ]
  },
  {
   "cell_type": "code",
   "execution_count": 30,
   "metadata": {},
   "outputs": [
    {
     "name": "stdout",
     "output_type": "stream",
     "text": [
      "\n",
      "Cleaned DataFrame Info:\n",
      "<class 'pandas.core.frame.DataFrame'>\n",
      "Index: 7 entries, 1 to 9\n",
      "Data columns (total 13 columns):\n",
      " #   Column              Non-Null Count  Dtype  \n",
      "---  ------              --------------  -----  \n",
      " 0   MovieID             7 non-null      object \n",
      " 1   Title               7 non-null      object \n",
      " 2   Director            7 non-null      object \n",
      " 3   Genre               7 non-null      object \n",
      " 4   ReleaseYear         7 non-null      Int64  \n",
      " 5   Budget (Crores)     7 non-null      int64  \n",
      " 6   BoxOffice (Crores)  7 non-null      int64  \n",
      " 7   Rating              7 non-null      float64\n",
      " 8   Duration (minutes)  7 non-null      Int64  \n",
      " 9   LeadActor           7 non-null      object \n",
      " 10  LeadActress         7 non-null      object \n",
      " 11  Language            7 non-null      object \n",
      " 12  ProductionCompany   7 non-null      object \n",
      "dtypes: Int64(2), float64(1), int64(2), object(8)\n",
      "memory usage: 798.0+ bytes\n",
      "\n",
      "Cleaned DataFrame Head:\n",
      "  MovieID                     Title          Director                Genre  \\\n",
      "1  MOV021  Baahubali: The Beginning   S. S. Rajamouli  Epic Fantasy Action   \n",
      "2  MOV023   Sye Raa Narasimha Reddy    Surender Reddy    Historical Action   \n",
      "3  MOV025                    Jersey  Gowtam Tinnanuri         Sports Drama   \n",
      "4  MOV027           Geetha Govindam         Parasuram      Romantic Comedy   \n",
      "5  MOV029              Dear Comrade      Bharat Kamma       Romantic Drama   \n",
      "\n",
      "   ReleaseYear  Budget (Crores)  BoxOffice (Crores)    Rating  \\\n",
      "1         2015              180                 650  8.100000   \n",
      "2         2019              200                 265  7.100000   \n",
      "3         2019               20                  45  7.800000   \n",
      "4         2018               10                 130  7.685714   \n",
      "5         2019               15                  35  7.100000   \n",
      "\n",
      "   Duration (minutes)          LeadActor        LeadActress Language  \\\n",
      "1                 159            Prabhas          Tamannaah   Telugu   \n",
      "2                 167        Chiranjeevi         Nayanthara   Telugu   \n",
      "3                 159               Nani   Shraddha Srinath   Telugu   \n",
      "4                 148  Vijay Deverakonda  Rashmika Mandanna   Telugu   \n",
      "5                 170  Vijay Deverakonda  Rashmika Mandanna   Telugu   \n",
      "\n",
      "             ProductionCompany  \n",
      "1             Arka Media Works  \n",
      "2  Konidela Production Company  \n",
      "3       Sithara Entertainments  \n",
      "4                 GA2 Pictures  \n",
      "5          Mythri Movie Makers  \n"
     ]
    }
   ],
   "source": [
    "if df is not None:\n",
    "    # Display cleaned data info\n",
    "    print('\\nCleaned DataFrame Info:')\n",
    "    df.info()\n",
    "    \n",
    "    # Display first 5 rows of cleaned data\n",
    "    print('\\nCleaned DataFrame Head:')\n",
    "    print(df.head())\n",
    "else:\n",
    "    print('DataFrame df not loaded. Cannot display final check.')"
   ]
  },
  {
   "cell_type": "markdown",
   "metadata": {},
   "source": [
    "## 5. Save Cleaned Data"
   ]
  },
  {
   "cell_type": "code",
   "execution_count": 32,
   "metadata": {},
   "outputs": [
    {
     "name": "stdout",
     "output_type": "stream",
     "text": [
      "Cleaned data saved to /home/nineleaps/Documents/Python_Training/Final_test/movies_data/cleaned_data_csv/cleaned_tollywood_movies.csv\n"
     ]
    }
   ],
   "source": [
    "if df is not None:\n",
    "    try:\n",
    "        # Define the output path\n",
    "        output_file = '/home/nineleaps/Documents/Python_Training/Final_test/movies_data/cleaned_data_csv/cleaned_tollywood_movies.csv'\n",
    "        # Save the DataFrame to CSV without the index\n",
    "        df.to_csv(output_file, index=False)\n",
    "        print(f\"Cleaned data saved to {output_file}\")\n",
    "    except Exception as e:\n",
    "        print(f\"Error saving cleaned data: {e}\")\n",
    "else:\n",
    "    print('DataFrame df not loaded. Cannot save.')"
   ]
  },
  {
   "cell_type": "code",
   "execution_count": 31,
   "metadata": {},
   "outputs": [
    {
     "data": {
      "text/html": [
       "<div>\n",
       "<style scoped>\n",
       "    .dataframe tbody tr th:only-of-type {\n",
       "        vertical-align: middle;\n",
       "    }\n",
       "\n",
       "    .dataframe tbody tr th {\n",
       "        vertical-align: top;\n",
       "    }\n",
       "\n",
       "    .dataframe thead th {\n",
       "        text-align: right;\n",
       "    }\n",
       "</style>\n",
       "<table border=\"1\" class=\"dataframe\">\n",
       "  <thead>\n",
       "    <tr style=\"text-align: right;\">\n",
       "      <th></th>\n",
       "      <th>MovieID</th>\n",
       "      <th>Title</th>\n",
       "      <th>Director</th>\n",
       "      <th>Genre</th>\n",
       "      <th>ReleaseYear</th>\n",
       "      <th>Budget (Crores)</th>\n",
       "      <th>BoxOffice (Crores)</th>\n",
       "      <th>Rating</th>\n",
       "      <th>Duration (minutes)</th>\n",
       "      <th>LeadActor</th>\n",
       "      <th>LeadActress</th>\n",
       "      <th>Language</th>\n",
       "      <th>ProductionCompany</th>\n",
       "    </tr>\n",
       "  </thead>\n",
       "  <tbody>\n",
       "    <tr>\n",
       "      <th>1</th>\n",
       "      <td>MOV021</td>\n",
       "      <td>Baahubali: The Beginning</td>\n",
       "      <td>S. S. Rajamouli</td>\n",
       "      <td>Epic Fantasy Action</td>\n",
       "      <td>2015</td>\n",
       "      <td>180</td>\n",
       "      <td>650</td>\n",
       "      <td>8.100000</td>\n",
       "      <td>159</td>\n",
       "      <td>Prabhas</td>\n",
       "      <td>Tamannaah</td>\n",
       "      <td>Telugu</td>\n",
       "      <td>Arka Media Works</td>\n",
       "    </tr>\n",
       "    <tr>\n",
       "      <th>2</th>\n",
       "      <td>MOV023</td>\n",
       "      <td>Sye Raa Narasimha Reddy</td>\n",
       "      <td>Surender Reddy</td>\n",
       "      <td>Historical Action</td>\n",
       "      <td>2019</td>\n",
       "      <td>200</td>\n",
       "      <td>265</td>\n",
       "      <td>7.100000</td>\n",
       "      <td>167</td>\n",
       "      <td>Chiranjeevi</td>\n",
       "      <td>Nayanthara</td>\n",
       "      <td>Telugu</td>\n",
       "      <td>Konidela Production Company</td>\n",
       "    </tr>\n",
       "    <tr>\n",
       "      <th>3</th>\n",
       "      <td>MOV025</td>\n",
       "      <td>Jersey</td>\n",
       "      <td>Gowtam Tinnanuri</td>\n",
       "      <td>Sports Drama</td>\n",
       "      <td>2019</td>\n",
       "      <td>20</td>\n",
       "      <td>45</td>\n",
       "      <td>7.800000</td>\n",
       "      <td>159</td>\n",
       "      <td>Nani</td>\n",
       "      <td>Shraddha Srinath</td>\n",
       "      <td>Telugu</td>\n",
       "      <td>Sithara Entertainments</td>\n",
       "    </tr>\n",
       "    <tr>\n",
       "      <th>4</th>\n",
       "      <td>MOV027</td>\n",
       "      <td>Geetha Govindam</td>\n",
       "      <td>Parasuram</td>\n",
       "      <td>Romantic Comedy</td>\n",
       "      <td>2018</td>\n",
       "      <td>10</td>\n",
       "      <td>130</td>\n",
       "      <td>7.685714</td>\n",
       "      <td>148</td>\n",
       "      <td>Vijay Deverakonda</td>\n",
       "      <td>Rashmika Mandanna</td>\n",
       "      <td>Telugu</td>\n",
       "      <td>GA2 Pictures</td>\n",
       "    </tr>\n",
       "    <tr>\n",
       "      <th>5</th>\n",
       "      <td>MOV029</td>\n",
       "      <td>Dear Comrade</td>\n",
       "      <td>Bharat Kamma</td>\n",
       "      <td>Romantic Drama</td>\n",
       "      <td>2019</td>\n",
       "      <td>15</td>\n",
       "      <td>35</td>\n",
       "      <td>7.100000</td>\n",
       "      <td>170</td>\n",
       "      <td>Vijay Deverakonda</td>\n",
       "      <td>Rashmika Mandanna</td>\n",
       "      <td>Telugu</td>\n",
       "      <td>Mythri Movie Makers</td>\n",
       "    </tr>\n",
       "    <tr>\n",
       "      <th>7</th>\n",
       "      <td>MOV036</td>\n",
       "      <td>Bheeshma</td>\n",
       "      <td>Venky Kudumula</td>\n",
       "      <td>Romantic Comedy</td>\n",
       "      <td>2020</td>\n",
       "      <td>20</td>\n",
       "      <td>50</td>\n",
       "      <td>7.400000</td>\n",
       "      <td>145</td>\n",
       "      <td>Nithiin</td>\n",
       "      <td>Rashmika Mandanna</td>\n",
       "      <td>Telugu</td>\n",
       "      <td>Sithara Entertainments</td>\n",
       "    </tr>\n",
       "    <tr>\n",
       "      <th>9</th>\n",
       "      <td>MOV052</td>\n",
       "      <td>Baahubali 2: The Conclusion</td>\n",
       "      <td>S. S. Rajamouli</td>\n",
       "      <td>Epic Fantasy Action</td>\n",
       "      <td>2017</td>\n",
       "      <td>250</td>\n",
       "      <td>1810</td>\n",
       "      <td>8.200000</td>\n",
       "      <td>171</td>\n",
       "      <td>Prabhas</td>\n",
       "      <td>Anushka Shetty</td>\n",
       "      <td>Telugu</td>\n",
       "      <td>Arka Media Works</td>\n",
       "    </tr>\n",
       "  </tbody>\n",
       "</table>\n",
       "</div>"
      ],
      "text/plain": [
       "  MovieID                        Title          Director                Genre  \\\n",
       "1  MOV021     Baahubali: The Beginning   S. S. Rajamouli  Epic Fantasy Action   \n",
       "2  MOV023      Sye Raa Narasimha Reddy    Surender Reddy    Historical Action   \n",
       "3  MOV025                       Jersey  Gowtam Tinnanuri         Sports Drama   \n",
       "4  MOV027              Geetha Govindam         Parasuram      Romantic Comedy   \n",
       "5  MOV029                 Dear Comrade      Bharat Kamma       Romantic Drama   \n",
       "7  MOV036                     Bheeshma    Venky Kudumula      Romantic Comedy   \n",
       "9  MOV052  Baahubali 2: The Conclusion   S. S. Rajamouli  Epic Fantasy Action   \n",
       "\n",
       "   ReleaseYear  Budget (Crores)  BoxOffice (Crores)    Rating  \\\n",
       "1         2015              180                 650  8.100000   \n",
       "2         2019              200                 265  7.100000   \n",
       "3         2019               20                  45  7.800000   \n",
       "4         2018               10                 130  7.685714   \n",
       "5         2019               15                  35  7.100000   \n",
       "7         2020               20                  50  7.400000   \n",
       "9         2017              250                1810  8.200000   \n",
       "\n",
       "   Duration (minutes)          LeadActor        LeadActress Language  \\\n",
       "1                 159            Prabhas          Tamannaah   Telugu   \n",
       "2                 167        Chiranjeevi         Nayanthara   Telugu   \n",
       "3                 159               Nani   Shraddha Srinath   Telugu   \n",
       "4                 148  Vijay Deverakonda  Rashmika Mandanna   Telugu   \n",
       "5                 170  Vijay Deverakonda  Rashmika Mandanna   Telugu   \n",
       "7                 145            Nithiin  Rashmika Mandanna   Telugu   \n",
       "9                 171            Prabhas     Anushka Shetty   Telugu   \n",
       "\n",
       "             ProductionCompany  \n",
       "1             Arka Media Works  \n",
       "2  Konidela Production Company  \n",
       "3       Sithara Entertainments  \n",
       "4                 GA2 Pictures  \n",
       "5          Mythri Movie Makers  \n",
       "7       Sithara Entertainments  \n",
       "9             Arka Media Works  "
      ]
     },
     "execution_count": 31,
     "metadata": {},
     "output_type": "execute_result"
    }
   ],
   "source": [
    "df"
   ]
  },
  {
   "cell_type": "code",
   "execution_count": null,
   "metadata": {},
   "outputs": [],
   "source": []
  }
 ],
 "metadata": {
  "kernelspec": {
   "display_name": "Python 3 (ipykernel)",
   "language": "python",
   "name": "python3"
  },
  "language_info": {
   "codemirror_mode": {
    "name": "ipython",
    "version": 3
   },
   "file_extension": ".py",
   "mimetype": "text/x-python",
   "name": "python",
   "nbconvert_exporter": "python",
   "pygments_lexer": "ipython3",
   "version": "3.12.3"
  }
 },
 "nbformat": 4,
 "nbformat_minor": 4
}
