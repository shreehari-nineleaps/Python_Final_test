{
 "cells": [
  {
   "cell_type": "markdown",
   "metadata": {},
   "source": [
    "## Sales Data Processing\n",
    "\n",
    "This notebook reads the `sales_24.csv` file, processes the 'Amount' column, and saves the updated data to `sales_updated.csv`.\n",
    "\n",
    "**Processing Steps:**\n",
    "1. Open `sales_24.csv`.\n",
    "2. Identify the 'Amount' column.\n",
    "3. For each row:\n",
    "    - If the 'Amount' value is present and numeric, round it down to the nearest integer using `math.floor()`.\n",
    "    - If the 'Amount' value is missing or non-numeric, leave it unchanged.\n",
    "4. Write the header and processed rows to `sales_updated.csv`."
   ]
  },
  {
   "cell_type": "code",
   "execution_count": 1,
   "metadata": {},
   "outputs": [],
   "source": [
    "# Import necessary libraries\n",
    "import csv\n",
    "import math\n",
    "import os # Import os to check for file existence"
   ]
  },
  {
   "cell_type": "code",
   "execution_count": 4,
   "metadata": {},
   "outputs": [
    {
     "name": "stdout",
     "output_type": "stream",
     "text": [
      "Done. Processed: 10, Skipped: 2, Output: 'sales_updated.csv'\n"
     ]
    }
   ],
   "source": [
    "import os, csv, math\n",
    "\n",
    "input_filename = 'sales_24.csv'\n",
    "output_filename = 'sales_updated.csv'\n",
    "\n",
    "if not os.path.exists(input_filename):\n",
    "    print(f\"Error: '{input_filename}' not found.\")\n",
    "else:\n",
    "    with open(input_filename, 'r', newline='', encoding='utf-8') as infile, \\\n",
    "         open(output_filename, 'w', newline='', encoding='utf-8') as outfile:\n",
    "\n",
    "        reader = csv.reader(infile)\n",
    "        writer = csv.writer(outfile)\n",
    "\n",
    "        header = next(reader)\n",
    "        writer.writerow(header)\n",
    "\n",
    "        # Get index of 'Amount' column (case-insensitive)\n",
    "        lower_header = [h.lower() for h in header]\n",
    "        if 'amount' not in lower_header:\n",
    "            print(\"Error: 'Amount' column not found.\")\n",
    "        else:\n",
    "            amount_idx = lower_header.index('amount')\n",
    "            processed = skipped = 0\n",
    "\n",
    "            for row in reader:\n",
    "                try:\n",
    "                    value = row[amount_idx].strip()\n",
    "                    if value:\n",
    "                        row[amount_idx] = math.floor(float(value))\n",
    "                        processed += 1\n",
    "                    else:\n",
    "                        skipped += 1\n",
    "                except:\n",
    "                    skipped += 1\n",
    "                writer.writerow(row)\n",
    "\n",
    "            print(f\"Done. Processed: {processed}, Skipped: {skipped}, Output: '{output_filename}'\")\n"
   ]
  },
  {
   "cell_type": "code",
   "execution_count": null,
   "metadata": {},
   "outputs": [],
   "source": []
  }
 ],
 "metadata": {
  "kernelspec": {
   "display_name": "Python 3 (ipykernel)",
   "language": "python",
   "name": "python3"
  },
  "language_info": {
   "codemirror_mode": {
    "name": "ipython",
    "version": 3
   },
   "file_extension": ".py",
   "mimetype": "text/x-python",
   "name": "python",
   "nbconvert_exporter": "python",
   "pygments_lexer": "ipython3",
   "version": "3.12.3"
  }
 },
 "nbformat": 4,
 "nbformat_minor": 4
}
